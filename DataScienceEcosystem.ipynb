{
 "cells": [
  {
   "cell_type": "markdown",
   "id": "36c1fc5c-2858-4799-ac3d-79b7ee9b6c4f",
   "metadata": {},
   "source": [
    "# Data Science Tools and Ecosystem\n"
   ]
  },
  {
   "cell_type": "markdown",
   "id": "09267ac7-5b79-4c75-aea1-261838ccc2ad",
   "metadata": {},
   "source": [
    "In diesem Notebook werden die Werkzeuge und Ökosysteme der Datenwissenschaft zusammengefasst."
   ]
  },
  {
   "cell_type": "markdown",
   "id": "300ad3c5-5bfe-4a77-af98-4d535e8c8113",
   "metadata": {},
   "source": [
    "Einige der beliebten Sprachen, die Datenwissenschaftler verwenden, sind:\n",
    "\n",
    "1. Python  \n",
    "2. R  \n",
    "3. SQL  \n"
   ]
  },
  {
   "cell_type": "markdown",
   "id": "23ad8968-ff08-400d-bc1e-40643ca09c3b",
   "metadata": {},
   "source": [
    "Einige der häufig verwendeten Bibliotheken, die von Datenwissenschaftlern verwendet werden, sind:\n",
    "\n",
    "1. Pandas  \n",
    "2. NumPy  \n",
    "3. Matplotlib\n"
   ]
  },
  {
   "cell_type": "markdown",
   "id": "92648a8c-6037-477e-9246-b3b40fccd1d5",
   "metadata": {},
   "source": [
    "| Data Science Tools |\n",
    "|--------------------|\n",
    "| Jupyter Notebook   |\n",
    "| RStudio            |\n",
    "| Apache Zeppelin    |\n"
   ]
  },
  {
   "cell_type": "markdown",
   "id": "a2e72d4c-8470-4c6f-b1b3-230830cb6785",
   "metadata": {},
   "source": [
    "### Unten sind einige Beispiele zur Auswertung arithmetischer Ausdrücke in Python.\n"
   ]
  },
  {
   "cell_type": "code",
   "execution_count": 1,
   "id": "06d57715-2d5b-405a-9a0a-535c43fb5db3",
   "metadata": {},
   "outputs": [
    {
     "data": {
      "text/plain": [
       "17"
      ]
     },
     "execution_count": 1,
     "metadata": {},
     "output_type": "execute_result"
    }
   ],
   "source": [
    "# Dies ist ein einfacher arithmetischer Ausdruck, um Ganzzahlen zu multiplizieren und dann zu addieren.\n",
    "(3 * 4) + 5"
   ]
  },
  {
   "cell_type": "code",
   "execution_count": 2,
   "id": "eb7bc81a-bef6-4332-b27b-a8e54ef92554",
   "metadata": {},
   "outputs": [
    {
     "data": {
      "text/plain": [
       "3.3333333333333335"
      ]
     },
     "execution_count": 2,
     "metadata": {},
     "output_type": "execute_result"
    }
   ],
   "source": [
    "# Dies wandelt 200 Minuten in Stunden um, indem durch 60 geteilt wird.\n",
    "200 / 60"
   ]
  },
  {
   "cell_type": "markdown",
   "id": "835ee9a4-ce40-42b3-a10d-0d263add5c05",
   "metadata": {},
   "source": [
    "**Ziele:**\n",
    "\n",
    "- Beliebte Programmiersprachen für Data Science auflisten  \n",
    "- Häufig verwendete Bibliotheken in der Datenwissenschaft benennen  \n",
    "- Tools für die Datenwissenschaft tabellarisch darstellen  \n",
    "- Einfache Rechenoperationen mit Python ausführen  \n",
    "- Markdown- und Code-Zellen in einem Jupyter Notebook verwenden\n"
   ]
  },
  {
   "cell_type": "markdown",
   "id": "97701436-890d-42f5-a6c2-8393fd647cbe",
   "metadata": {},
   "source": [
    "## Autor\n",
    "\n",
    "Viktor Rein\n"
   ]
  }
 ],
 "metadata": {
  "kernelspec": {
   "display_name": "Python 3 (ipykernel)",
   "language": "python",
   "name": "python3"
  },
  "language_info": {
   "codemirror_mode": {
    "name": "ipython",
    "version": 3
   },
   "file_extension": ".py",
   "mimetype": "text/x-python",
   "name": "python",
   "nbconvert_exporter": "python",
   "pygments_lexer": "ipython3",
   "version": "3.12.8"
  }
 },
 "nbformat": 4,
 "nbformat_minor": 5
}
